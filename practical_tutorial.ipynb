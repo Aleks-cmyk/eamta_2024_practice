{
  "nbformat": 4,
  "nbformat_minor": 0,
  "metadata": {
    "colab": {
      "provenance": []
    },
    "kernelspec": {
      "name": "python3",
      "display_name": "Python 3"
    },
    "language_info": {
      "name": "python"
    }
  },
  "cells": [
    {
      "cell_type": "markdown",
      "source": [
        "# Why Pytorch?"
      ],
      "metadata": {
        "id": "NuSO4vz4Ai_z"
      }
    },
    {
      "cell_type": "markdown",
      "source": [
        "PyTorch is an open-source machine learning library. It provides a flexible platform for deep learning research and development, offering both high-level features for neural network design and low-level support for tensor operations.\n",
        "\n",
        "###Main Advantages of Using PyTorch:\n",
        "\n",
        "\n",
        "1.   PyTorch's API is designed to be intuitive and close to Python's native syntax.\n",
        "2.   PyTorch has a large community that contributes to its extensive library of tools, tutorials, and pre-trained models, making it easier for newcomers to get started and for experts to advance their work.\n",
        "3.   PyTorch's documentation is just amazing!\n",
        "4.   PyTorch offers straightforward integration with CUDA, enabling easy and efficient GPU computation. This allows for faster training of models and handling of large datasets, essential for deep learning tasks.\n",
        "\n"
      ],
      "metadata": {
        "id": "n7PX3hkAzYuw"
      }
    },
    {
      "cell_type": "markdown",
      "source": [
        "Let's check if you have CUDA available!"
      ],
      "metadata": {
        "id": "WK0p1kI77K70"
      }
    },
    {
      "cell_type": "code",
      "source": [
        "import torch\n",
        "device = torch.device('cuda:0' if torch.cuda.is_available() else 'cpu')\n",
        "\n",
        "print(device)"
      ],
      "metadata": {
        "colab": {
          "base_uri": "https://localhost:8080/"
        },
        "id": "3C2xLsDa4giP",
        "outputId": "82701e30-8004-4b80-a003-581d970e640c"
      },
      "execution_count": null,
      "outputs": [
        {
          "output_type": "stream",
          "name": "stdout",
          "text": [
            "cpu\n"
          ]
        }
      ]
    },
    {
      "cell_type": "markdown",
      "source": [
        "P.S. You can change it later in the Colab settings under the Runtime tab."
      ],
      "metadata": {
        "id": "6i8Sx7UW7YcT"
      }
    },
    {
      "cell_type": "markdown",
      "source": [
        "#How do we represent data in Pytorch?\n",
        "\n",
        "Tensors are the fundamental building blocks of PyTorch and are used for storing inputs, outputs, and transformations within models. They are similar to NumPy arrays but have additional capabilities that make them uniquely suited for deep learning tasks. In essence, a tensor can be considered as a multi-dimensional array."
      ],
      "metadata": {
        "id": "Q6wQwWRx7wB6"
      }
    },
    {
      "cell_type": "markdown",
      "source": [
        "###Special Features of PyTorch Tensors:"
      ],
      "metadata": {
        "id": "rVL34CcXxlus"
      }
    },
    {
      "cell_type": "markdown",
      "source": [
        "1.   One of the most significant features of PyTorch tensors is their ability to be used on GPUs. This allows for substantial acceleration of computations, which is crucial for training deep learning models efficiently. Moving tensors from CPU to GPU and vice versa is straightforward by using ```my_tensor.to(device)```.\n",
        "\n",
        "2.   PyTorch tensors work seamlessly with PyTorch's autograd system. This system automatically calculates gradients or derivatives of tensors as part of the backpropagation process, which is essential for training neural networks. The autograd system in PyTorch simplifies the process of implementing complex neural networks by automating the differentiation process.\n",
        "3.   PyTorch tensors can easily be converted to and from NumPy arrays without incurring data copying costs.\n",
        "4.   Tensors in PyTorch are optimized for performance, with support for various data types and hardware accelerations\n",
        "5.   PyTorch provides a comprehensive set of operations for tensor manipulation, including mathematical operations, indexing, slicing, and reshaping, among others.\n",
        "\n",
        "Let's deepen your understanding of tensors by solving some practical exercises!"
      ],
      "metadata": {
        "id": "SBGL1nusxqdm"
      }
    },
    {
      "cell_type": "markdown",
      "source": [
        "###Exercise 1: Creating Tensors and Performing Basic Mathematical Operations\n",
        "\n",
        "1. **Create Tensors**:\n",
        "   - Create a 1D tensor `a` containing the first five natural numbers and a 1D tensor `b` containing the next five natural numbers.\n",
        "   - Create a 2D tensor `c` of size 2x3 filled with random numbers.\n",
        "\n"
      ],
      "metadata": {
        "id": "-5fo3KTjAFrg"
      }
    },
    {
      "cell_type": "code",
      "source": [
        "# YOUR SOLUTION HERE\n"
      ],
      "metadata": {
        "id": "Y1D9y7uHtead"
      },
      "execution_count": null,
      "outputs": []
    },
    {
      "cell_type": "markdown",
      "source": [
        "2. **Mathematical Operations**:\n",
        "   - Calculate the sum, difference, element-wise product, and division of `a` and `b`.\n",
        "   - Calculate the mean and standard deviation of both `a` and `c`."
      ],
      "metadata": {
        "id": "kD6MsuuttexC"
      }
    },
    {
      "cell_type": "code",
      "source": [
        "# YOUR SOLUTION HERE\n"
      ],
      "metadata": {
        "id": "MIn9LWo5Ap__"
      },
      "execution_count": null,
      "outputs": []
    },
    {
      "cell_type": "markdown",
      "source": [
        "### Exercise 2: Indexing and Slicing\n",
        "\n",
        "1. **Indexing**:\n",
        "   - From tensor `c` created in Exercise 1, extract the element at the second row and third column.\n",
        "   - Extract the first row from `c`.\n",
        "\n"
      ],
      "metadata": {
        "id": "6tmhag66APrN"
      }
    },
    {
      "cell_type": "code",
      "source": [
        "# YOUR SOLUTION HERE\n"
      ],
      "metadata": {
        "id": "UN_Wg8uAvIbe"
      },
      "execution_count": null,
      "outputs": []
    },
    {
      "cell_type": "markdown",
      "source": [
        "2. **Slicing**:\n",
        "   - Create a 2D tensor `d` of shape 4x4 with any numbers. Slice tensor `d` to extract the 2x2 top-right corner.\n",
        "   - Extract every other element from tensor `a` created in Exercise 1."
      ],
      "metadata": {
        "id": "FOk3CHxzvIwE"
      }
    },
    {
      "cell_type": "code",
      "source": [
        "# YOUR SOLUTION HERE\n"
      ],
      "metadata": {
        "id": "6tKWk08zvLt8"
      },
      "execution_count": null,
      "outputs": []
    },
    {
      "cell_type": "markdown",
      "source": [
        "\n",
        "###Exercise 3: Reshaping Tensors\n",
        "\n",
        "1. **Reshape**:\n",
        "   - Reshape tensor `b` into a 2x5 tensor.\n",
        "   - Flatten tensor `c` into a 1D tensor."
      ],
      "metadata": {
        "id": "dYLmBPBdvL6C"
      }
    },
    {
      "cell_type": "code",
      "source": [
        "# YOUR SOLUTION HERE\n"
      ],
      "metadata": {
        "id": "5yBSMa8XvQ66"
      },
      "execution_count": null,
      "outputs": []
    },
    {
      "cell_type": "markdown",
      "source": [
        "2. **Concatenation**:\n",
        "   - Concatenate tensors `a` and `b` along a new dimension to create a tensor of size (2, 5).\n",
        "   - Stack two copies of tensor `c` vertically and horizontally."
      ],
      "metadata": {
        "id": "HfVnffIOvRiP"
      }
    },
    {
      "cell_type": "code",
      "source": [
        "# YOUR SOLUTION HERE\n"
      ],
      "metadata": {
        "id": "_77RvJRSvT1c"
      },
      "execution_count": null,
      "outputs": []
    },
    {
      "cell_type": "markdown",
      "source": [
        "\n",
        "###Exercise 4: Advanced Mathematical Operations\n",
        "\n",
        "1. **Matrix Multiplication**:\n",
        "   - Create two 2D tensors `e` (size 3x2) and `f` (size 2x3) filled with any numbers. Perform matrix multiplication on `e` and `f`."
      ],
      "metadata": {
        "id": "sWIbh33OvUFQ"
      }
    },
    {
      "cell_type": "code",
      "source": [
        "# YOUR SOLUTION HERE\n"
      ],
      "metadata": {
        "id": "6AflX7drvY2m"
      },
      "execution_count": null,
      "outputs": []
    },
    {
      "cell_type": "markdown",
      "source": [
        "   \n",
        "2. **Element-wise Power**:\n",
        "   - Take tensor `a` and raise each element to the power of 3."
      ],
      "metadata": {
        "id": "0tDd0PcKvZE4"
      }
    },
    {
      "cell_type": "code",
      "source": [
        "# YOUR SOLUTION HERE\n"
      ],
      "metadata": {
        "id": "c5fjmfj-vZ6L"
      },
      "execution_count": null,
      "outputs": []
    },
    {
      "cell_type": "markdown",
      "source": [
        "# Automatic differentiation"
      ],
      "metadata": {
        "id": "8t1opRt1u-Wg"
      }
    },
    {
      "cell_type": "markdown",
      "source": [
        "Autograd is a fundamental component of PyTorch, providing automatic differentiation for all operations on tensors. It is a system that calculates the derivatives of tensors with respect to some variables. This feature is essential for the training of neural networks, where backpropagation requires the gradients of loss functions with respect to parameters (weights and biases) for optimization."
      ],
      "metadata": {
        "id": "B1634lL5BwFx"
      }
    },
    {
      "cell_type": "markdown",
      "source": [
        "Let's take a look at the example where `y` is a function of `x`, and calling `y.backward()` computes the gradients of `y` with respect to `x` and stores them in `x.grad`."
      ],
      "metadata": {
        "id": "PGN_ih4izMX0"
      }
    },
    {
      "cell_type": "code",
      "source": [
        "# Create a tensor and set requires_grad=True to track computation with it\n",
        "x = torch.tensor([1.0, 2.0, 3.0], requires_grad=True)\n",
        "\n",
        "# Do a tensor operation:\n",
        "y = x * 2 + 5\n",
        "\n",
        "# Compute the gradients\n",
        "y.backward(torch.tensor([1.0, 1.0, 1.0]))  # Gradient of some scalar function w.r.t x\n",
        "# Here torch.tensor([1.0, 1.0, 1.0]) represents the external gradient that cames from the previous layer\n",
        "\n",
        "# Print gradients d(y)/d(x)\n",
        "print(x.grad)  # Output will be gradient of y with respect to x"
      ],
      "metadata": {
        "colab": {
          "base_uri": "https://localhost:8080/"
        },
        "id": "-r0W3yhGzyXG",
        "outputId": "1110a47c-38b5-4364-cd3d-9f9ff558130a"
      },
      "execution_count": null,
      "outputs": [
        {
          "output_type": "stream",
          "name": "stdout",
          "text": [
            "tensor([2., 2., 2.])\n"
          ]
        }
      ]
    },
    {
      "cell_type": "markdown",
      "source": [
        "# nn.Module"
      ],
      "metadata": {
        "id": "O76OolTVAqy7"
      }
    },
    {
      "cell_type": "markdown",
      "source": [
        "Neural networks comprise of layers/modules that perform operations on data. The torch.nn namespace provides all the building blocks you need to build your own neural network. Every module in PyTorch subclasses the nn.Module. A neural network is a module itself that consists of other modules (layers). This nested structure allows for building and managing complex architectures easily."
      ],
      "metadata": {
        "id": "m1RIRWdw1O8r"
      }
    },
    {
      "cell_type": "markdown",
      "source": [
        "This means that you need to create your own class, derived from nn.Module, to create a neural network. Initialize the neural network layers in `__init__`. Implement the operations on input data in the `forward` method. Here is an example of such class implementation taken from Pytorch's official website:"
      ],
      "metadata": {
        "id": "8YYATSn11hr6"
      }
    },
    {
      "cell_type": "code",
      "source": [
        "from torch import nn\n",
        "\n",
        "class NeuralNetwork(torch.nn.Module):\n",
        "\n",
        "    def __init__(self):\n",
        "        super().__init__()\n",
        "\n",
        "        self.linear1 = torch.nn.Linear(100, 200) # Linear layer with 100 inputs and 200 outputs\n",
        "        self.activation = torch.nn.ReLU() # ReLU activation function\n",
        "        self.linear2 = torch.nn.Linear(200, 10) # Linear layer with 200 inputs and 10 outputs\n",
        "        self.softmax = torch.nn.Softmax() # Softmax activation function\n",
        "\n",
        "    def forward(self, x): # x is input data\n",
        "        x = self.linear1(x) # apply layers and activation functions one by one\n",
        "        x = self.activation(x)\n",
        "        x = self.linear2(x)\n",
        "        x = self.softmax(x)\n",
        "        return x # return the result"
      ],
      "metadata": {
        "id": "1GXsrm6y2v96"
      },
      "execution_count": null,
      "outputs": []
    },
    {
      "cell_type": "markdown",
      "source": [
        "In this example, the input sample has 100 features, so the input of the first linear layer is 100. Then 200 is the number of hidden neurons. The output size of the first Linear layer and the input size of the second Linear layer must match. The output of the second Linear layer represents the number of output neurons, which differs according to the task."
      ],
      "metadata": {
        "id": "G4Dugyh_4RFa"
      }
    },
    {
      "cell_type": "markdown",
      "source": [
        "### First Pytorch NN exercise"
      ],
      "metadata": {
        "id": "i9AKKW7aa5_z"
      }
    },
    {
      "cell_type": "markdown",
      "source": [
        "In this exercise, you will define a simple neural network using PyTorch, focusing on writing the `__init__` and `forward` methods within the SimpleNN class. This network will be a basic feedforward neural network suitable for classifying images from the MNIST dataset. The MNIST images are grayscale images of handwritten digits, each of size 28x28 pixels."
      ],
      "metadata": {
        "id": "yMnIJO-S8iZI"
      }
    },
    {
      "cell_type": "markdown",
      "source": [
        "Task 1: Define the __init__ Method\n",
        "\n",
        "Start by importing the necessary modules\n"
      ],
      "metadata": {
        "id": "5enCBJpV8pbt"
      }
    },
    {
      "cell_type": "code",
      "source": [
        "import torch.nn as nn\n",
        "import torch.nn.functional as F"
      ],
      "metadata": {
        "id": "4MnRnTzY8o_7"
      },
      "execution_count": null,
      "outputs": []
    },
    {
      "cell_type": "markdown",
      "source": [
        "Initialize the Neural Network Class:\n",
        "\n",
        "> Define a class named `SimpleNN` that inherits from `nn.Module`.\n",
        "Inside the class, define the `__init__` method. Remember to initialize the parent class (`nn.Module`) at the beginning of your `__init__` method using `super()`.\n",
        "\n",
        "Define Layers:\n",
        "\n",
        ">Within the `__init__` method, define the following layers using the appropriate modules from the torch.nn:\n",
        "\n",
        "1.  A fully connected layer (nn.Linear) named fc1 that takes 784 input features (since the images are 28x28 pixels, they will be flattened to a 784-dimensional vector) and outputs 128 features.\n",
        "2. Another fully connected layer (nn.Linear) named fc2 takes 128 input features (the output of fc1) and outputs 64 features.\n",
        "3. A final fully connected layer (nn.Linear) named fc3 takes 64 input features and outputs 10 features, corresponding to the 10 possible classes (digits 0 through 9).\n",
        "\n",
        "Task 2: Define the forward Method\n",
        "\n",
        "Implement the Forward Pass:\n",
        "\n",
        ">Define a method named `forward` within the SimpleNN class that takes one argument: `x`, the input tensor.\n",
        "The first operation in your forward method should be to flatten the input tensor `x` from a 28x28 matrix into a vector of 784 elements. This can be done using the view method on tensors.\n",
        "\n",
        "Apply Activation Functions:\n",
        "\n",
        ">Pass the flattened input through the first fully connected layer (fc1) and then apply the ReLU activation function (`F.relu`).\n",
        "Pass the result through the second fully connected layer (fc2) and again apply the ReLU activation function.\n",
        "Finally, pass the result through the third fully connected layer (fc3). This time, do not apply an activation function yet."
      ],
      "metadata": {
        "id": "cl_Yb0qZbAFW"
      }
    },
    {
      "cell_type": "code",
      "source": [
        "# YOUR SOLUTION HERE\n"
      ],
      "metadata": {
        "id": "jPaXkAwh-9Tk"
      },
      "execution_count": null,
      "outputs": []
    },
    {
      "cell_type": "markdown",
      "source": [
        "Great! Now you can create instances of your network with `my_model = SimpleNN()`. After that, you can explore some helper functions provided below."
      ],
      "metadata": {
        "id": "9RziwOGP8wp3"
      }
    },
    {
      "cell_type": "code",
      "source": [
        "# create an instance of your class\n",
        "my_model = # YOUR CODE HERE\n",
        "\n",
        "print('The model:')\n",
        "print(my_model)\n",
        "\n",
        "print('\\n\\nJust one layer:')\n",
        "print(my_model.fc1)\n",
        "\n",
        "print('\\n\\nModel params:')\n",
        "for param in my_model.parameters():\n",
        "    print(param)\n",
        "\n",
        "print('\\n\\nLayer params:')\n",
        "for param in my_model.fc2.parameters():\n",
        "    print(param)"
      ],
      "metadata": {
        "id": "vYLlcJWo9Tf4"
      },
      "execution_count": null,
      "outputs": []
    },
    {
      "cell_type": "markdown",
      "source": [
        "### Layer types"
      ],
      "metadata": {
        "id": "zCq8EGBG_V4_"
      }
    },
    {
      "cell_type": "markdown",
      "source": [
        "In the previous exercise, we used layers (`nn.Linear`) and activation functions (`nn.ReLU`, `nn.Softmax`). But there is much more! You can find all of them on [PyTorch's official website](https://pytorch.org/docs/stable/nn.html). We encourage you to take a closer look at the following layers as we are going to use them in future exercises:\n",
        "* nn.Conv2d\n",
        "* nn.MaxPool2d\n",
        "* nn.Flatten\n",
        "* nn.Dropout\n",
        "* nn.LayerNorm"
      ],
      "metadata": {
        "id": "WbwgXtuj_a19"
      }
    },
    {
      "cell_type": "markdown",
      "source": [
        "### Activation functions"
      ],
      "metadata": {
        "id": "_9PtbuHCD3ge"
      }
    },
    {
      "cell_type": "markdown",
      "source": [
        "Activation functions are also part of the nn.Module and can be applied in the same manner as network layers. The most famous activation functions are:"
      ],
      "metadata": {
        "id": "8jP01tsPCALw"
      }
    },
    {
      "cell_type": "code",
      "source": [
        "import numpy as np\n",
        "import matplotlib.pyplot as plt\n",
        "\n",
        "# Define the range for the plot\n",
        "x = np.linspace(-10, 10, 100)\n",
        "\n",
        "# Activation functions and their derivatives\n",
        "def sigmoid(x):\n",
        "  return 1 / (1 + np.exp(-x))\n",
        "\n",
        "def sigmoid_derivative(x):\n",
        "  return sigmoid(x) * (1 - sigmoid(x))\n",
        "\n",
        "def tanh(x):\n",
        "  return np.tanh(x)\n",
        "\n",
        "def tanh_derivative(x):\n",
        "  return 1 - np.tanh(x)**2\n",
        "\n",
        "def relu(x):\n",
        "  return np.maximum(0, x)\n",
        "\n",
        "def relu_derivative(x):\n",
        "  return np.where(x > 0, 1, 0)\n",
        "\n",
        "def leaky_relu(x, alpha=0.1):\n",
        "  return np.where(x > 0, x, alpha * x)\n",
        "\n",
        "def leaky_relu_derivative(x, alpha=0.1):\n",
        "  return np.where(x > 0, 1, alpha)\n",
        "\n",
        "# Plot the activation functions\n",
        "plt.figure(figsize=(10, 8))\n",
        "\n",
        "plt.subplot(2, 2, 1)\n",
        "plt.plot(x, sigmoid(x), label=\"Sigmoid\")\n",
        "plt.plot(x, sigmoid_derivative(x), label=\"Sigmoid Derivative\")\n",
        "plt.title(\"Sigmoid and its Derivative\")\n",
        "plt.legend()\n",
        "plt.grid()\n",
        "\n",
        "plt.subplot(2, 2, 2)\n",
        "plt.plot(x, tanh(x), label=\"Tanh\")\n",
        "plt.plot(x, tanh_derivative(x), label=\"Tanh Derivative\")\n",
        "plt.title(\"Tanh and its Derivative\")\n",
        "plt.legend()\n",
        "plt.grid()\n",
        "\n",
        "plt.subplot(2, 2, 3)\n",
        "plt.plot(x, relu(x), label=\"ReLU\")\n",
        "plt.plot(x, relu_derivative(x), label=\"ReLU Derivative\")\n",
        "plt.title(\"ReLU and its Derivative\")\n",
        "plt.legend()\n",
        "plt.grid()\n",
        "\n",
        "plt.subplot(2, 2, 4)\n",
        "plt.plot(x, leaky_relu(x), label=\"Leaky ReLU\")\n",
        "plt.plot(x, leaky_relu_derivative(x), label=\"Leaky ReLU Derivative\")\n",
        "plt.title(\"Leaky ReLU and its Derivative\")\n",
        "plt.legend()\n",
        "plt.grid()\n",
        "\n",
        "plt.tight_layout()\n",
        "plt.show()"
      ],
      "metadata": {
        "colab": {
          "base_uri": "https://localhost:8080/",
          "height": 807
        },
        "id": "xRQTBADQfkTY",
        "outputId": "39c4e42d-30d7-4d7f-a66e-b049ad09c448"
      },
      "execution_count": null,
      "outputs": [
        {
          "output_type": "display_data",
          "data": {
            "text/plain": [
              "<Figure size 1000x800 with 4 Axes>"
            ],
            "image/png": "[encoded data removed]"
          },
          "metadata": {}
        }
      ]
    },
    {
      "cell_type": "markdown",
      "source": [
        "These activation function are usually used in between neural network layers to introduce nonlinearity. It is important to note, however, that the choice of the activation function of the output layer is critical and heavily dependant on the task."
      ],
      "metadata": {
        "id": "RU3AWRLNgbX8"
      }
    },
    {
      "cell_type": "markdown",
      "source": [
        "**Linear units - Regression tasks**\n",
        "\n",
        "For regression tasks, the output units usually are linearly activated by\n",
        "$$f(x) = x$$\n",
        "with the derivative\n",
        "$$f'(x) = 1$$\n",
        "in Pytorch: `nn.Linear`\n",
        "\n",
        "\n",
        "---\n",
        "\n"
      ],
      "metadata": {
        "id": "EdK_LhisjSky"
      }
    },
    {
      "cell_type": "markdown",
      "source": [
        "**Logistic sigmoid units - Binary classification tasks**\n",
        "\n",
        "For binary classification tasks, the output units usually are logistic sigmaid activated by\n",
        "\n",
        "$$f(x) = σ(x) = \\frac{1}{1 + e^{-x}}$$\n",
        "\n",
        "with the derivative\n",
        "$$f'(x) = \\frac{e^x}{1+e^{2x}}=σ(x)(1-σ(x))$$\n",
        "\n",
        "in PyTorch: `nn.LogSigmoid`\n",
        "\n",
        "\n",
        "---\n",
        "\n"
      ],
      "metadata": {
        "id": "RtgyXuD2kot6"
      }
    },
    {
      "cell_type": "markdown",
      "source": [
        "**Softmax - Categorical classification tasks**\n",
        "\n",
        "For categorical classification tasks, the outout units are softmax units\n",
        "$$softmax(\\textbf{s}) = (\\frac{e^{s_1}}{\\sum^{K}_{j=1}e^{s_j}}, ..., \\frac{e^{s_k}}{\\sum^{K}_{j=1}e^{s_j}}, ..., \\frac{e^{s_K}}{\\sum^{K}_{j=1}e^{s_j}})^T$$\n",
        "with the derivative\n",
        "$$\\frac{∂softmax(\\textbf{s})_i}{∂s_k}=softmax(\\textbf{s})_i(δ_{ik}-softmax(\\textbf{s})_k)$$\n",
        "\n",
        "in PyTorch: `nn.Softmax`\n",
        "\n",
        "\n",
        "---\n",
        "\n"
      ],
      "metadata": {
        "id": "hzhW8pH1l7aB"
      }
    },
    {
      "cell_type": "markdown",
      "source": [
        "### Exercise: Exploring Activation Functions in PyTorch"
      ],
      "metadata": {
        "id": "U7kaTjbrdD34"
      }
    },
    {
      "cell_type": "markdown",
      "source": [
        "In this exercise, you will experiment with various activation functions provided by PyTorch, understanding their effects on neural network models.  You will use the neural network from the previous exercise and apply different activation functions to observe their impact."
      ],
      "metadata": {
        "id": "3N5nqbqtqKt4"
      }
    },
    {
      "cell_type": "markdown",
      "source": [
        "Task 1: Setup and Initialization\n",
        "\n",
        "A Neural Network Class:\n",
        "\n",
        "> Copy a class created in the previous exercise. You will use it as a base for this exercise.\n",
        "\n",
        "\n",
        "\n",
        "Task 2: Add an activation function placeholder to the `forward` method:\n",
        "\n",
        ">In the `forward` method of your SimpleNN class replace all activation functions with a placeholder method self.activation that you will define later to apply an activation function."
      ],
      "metadata": {
        "id": "b8YITLmc7quc"
      }
    },
    {
      "cell_type": "code",
      "source": [
        "# YOUR CODE HERE\n"
      ],
      "metadata": {
        "id": "3hgsyQy07rDQ"
      },
      "execution_count": null,
      "outputs": []
    },
    {
      "cell_type": "markdown",
      "source": [
        "Define Multiple Activation Functions:\n",
        "\n",
        ">Outside the SimpleNN class, define several functions that take an input tensor `x` and apply different PyTorch activation functions. For example, create functions for ReLU (`F.relu(x)`), Sigmoid (`torch.sigmoid(x)`), Tanh (`torch.tanh(x)`), and LeakyReLU (`F.leaky_relu(x)`)."
      ],
      "metadata": {
        "id": "hJUCdqjx76Yj"
      }
    },
    {
      "cell_type": "code",
      "source": [
        "# YOUR CODE HERE\n"
      ],
      "metadata": {
        "id": "s023hYbT77Bp"
      },
      "execution_count": null,
      "outputs": []
    },
    {
      "cell_type": "markdown",
      "source": [
        "Experiment Setup:\n",
        "\n",
        ">Create instances of the SimpleNN class and assign each of the activation function methods you created to self.activation in turn. You can do this by setting the attribute directly from an instance (e.g., model.activation = my_activation_function)."
      ],
      "metadata": {
        "id": "sUDCdxIB8WP9"
      }
    },
    {
      "cell_type": "code",
      "source": [
        "# YOUR CODE HERE\n"
      ],
      "metadata": {
        "id": "4pj1oFoQ8Wsk"
      },
      "execution_count": null,
      "outputs": []
    },
    {
      "cell_type": "markdown",
      "source": [
        "Test and Observe:\n",
        "\n",
        ">Generate a random tensor that mimics the shape of flattened MNIST images and pass it through the model instances with different activation functions. Observe the output and consider printing the range of output values or plotting histograms to visualize the effects of each activation function."
      ],
      "metadata": {
        "id": "wIb7TdALc-Z1"
      }
    },
    {
      "cell_type": "code",
      "source": [
        "# YOUR CODE HERE\n"
      ],
      "metadata": {
        "id": "sobbXG0P99GQ"
      },
      "execution_count": null,
      "outputs": []
    },
    {
      "cell_type": "markdown",
      "source": [
        "Output activation function\n",
        "\n",
        "> Change your neural network to include an activation function placeholder after the last layer. Repeat all the experiments again. Try Linear, Logistic Sigmois and Softmax functions. What do you get as an output every time?"
      ],
      "metadata": {
        "id": "Pyw8aOgB_PQ1"
      }
    },
    {
      "cell_type": "code",
      "source": [
        "# YOUR CODE HERE\n"
      ],
      "metadata": {
        "id": "0KIg4XmiAChd"
      },
      "execution_count": null,
      "outputs": []
    },
    {
      "cell_type": "markdown",
      "source": [
        "### Loss functions a.k.a Criterions a.k.a Cost functions a.k.a Objective functions"
      ],
      "metadata": {
        "id": "W9nl3lTdCHsj"
      }
    },
    {
      "cell_type": "markdown",
      "source": [
        "Loss functions measure the difference between the model's predictions and the actual target values in the training data. The goal of training is to minimize this loss, which, in turn, improves the model's accuracy and performance on unseen data."
      ],
      "metadata": {
        "id": "snL_Vi21CKRz"
      }
    },
    {
      "cell_type": "markdown",
      "source": [
        "Similarly to activations of the output layer that we discussed earlier, the choice of loss function depends on several factors, including the specific type of machine learning problem (e.g., regression, binary classification, multi-class classification) and the distribution of the target data."
      ],
      "metadata": {
        "id": "RpLjyT-7Birh"
      }
    },
    {
      "cell_type": "markdown",
      "source": [
        "**MSE, MAE - Regression tasks**\n",
        "\n",
        "* Mean Squared Error (MSE) calculates the average of the squares of the differences between the predicted $\\hat{y}_i$ and actual $y_i$ values. This function is sensitive to outliers because it squares the errors.\n",
        "\n",
        "$$\\text{MSE} = \\frac{1}{n} \\sum_{i=1}^{n} (\\hat{y}_i - y_i)^2$$\n",
        "\n",
        "In PyTorch: `nn.MSELoss`\n",
        "\n",
        "* Mean Absolute Error (MAE): calculates the average of the **absolute** differences between the predicted $\\hat{y}_i$ and actual $y_i$ values. This function is less sensitive to outliers compared to MSE.\n",
        "$$\\text{MAE} = \\frac{1}{n} \\sum_{i=1}^{n} |\\hat{y}_i - y_i|$$\n",
        "\n",
        "In PyTorch: `nn.L1Loss`\n",
        "\n",
        "\n",
        "---\n"
      ],
      "metadata": {
        "id": "UrLyaj_1CFqo"
      }
    },
    {
      "cell_type": "markdown",
      "source": [
        "**Cross-Entropy Loss - Binary classification tasks**\n",
        "\n",
        " Cross-Entropy Loss is typically used because it penalizes incorrect classifications more heavily than close correct classifications, which is desirable in classification.\n",
        "\n",
        "$$\n",
        "\\text{Cross-Entropy Loss} = -\\left[y_i \\log(\\hat{y}_i) + (1 - y_i) \\log(1 - \\hat{y}_i)\\right]$$\n",
        "\n",
        "where $y_i$ is the actual label (0 or 1) and $\\hat{y}_i$ is the predicted probability of the class label being 1.\n",
        "\n",
        "in PyTorch: `nn.BCELoss`\n",
        "\n",
        "\n",
        "---\n"
      ],
      "metadata": {
        "id": "S9hzPpZ4EIDk"
      }
    },
    {
      "cell_type": "markdown",
      "source": [
        "**Categorical Cross-Entropy Loss - Categorical classification tasks**\n",
        "\n",
        "Categorical Cross-Entropy Loss is used when you have more than two classes, and the classes are mutually exclusive.\n",
        "\n",
        "$$\\text{Categorical Cross-Entropy Loss} = -\\sum_{c=1}^{C} y_{ic} \\log(\\hat{y}_{ic})$$\n",
        "\n",
        "where $y_{ic}$ is a binary indicator of whether class $c$ is the correct classification for observation $i$, and $\\hat{y}_{ic}$ is the predicted probability that observation $i$ belongs to class $c$.\n",
        "\n",
        "in PyTorch: `nn.CrossEntropyLoss`\n",
        "\n",
        "\n",
        "---"
      ],
      "metadata": {
        "id": "OOeJEv6uE-4W"
      }
    },
    {
      "cell_type": "markdown",
      "source": [
        "In order to monitor the training process of the neural network, experienced practitioners (us) monitor the loss on the training set and the loss on a validation set after each epoch. This results in graphs of updates (x-axis) versus loss on the training/validation set on the y-axis."
      ],
      "metadata": {
        "id": "dsi45mATod9V"
      }
    },
    {
      "cell_type": "markdown",
      "source": [
        "<div style=\"text-align: center\">\n",
        "  <figure style=\"display: inline-block; width: 49%;\">\n",
        "    <img src=\"https://api.wandb.ai/files/mostafaibrahim17/images/projects/37042936/d19f27ef.png\" width=\"500\"/>\n",
        "  </figure>\n",
        "</div>\n",
        "\n",
        "*visualisations taken from the [this guide](https://wandb.ai/mostafaibrahim17/ml-articles/reports/A-Deep-Dive-Into-Learning-Curves-in-Machine-Learning--Vmlldzo0NjA1ODY0)*"
      ],
      "metadata": {
        "id": "tQC2oTL7pRJO"
      }
    },
    {
      "cell_type": "markdown",
      "source": [
        "### Training Behaviours"
      ],
      "metadata": {
        "id": "P2op-wyZqw-F"
      }
    },
    {
      "cell_type": "markdown",
      "source": [
        "In neural network training, different behaviours can emerge based on various factors, including the architecture of the network, the choice of hyperparameters, the quality and quantity of data, and the training methodology. So imagine you see this after plotting your training curves:"
      ],
      "metadata": {
        "id": "n0iF524Xq5nQ"
      }
    },
    {
      "cell_type": "markdown",
      "source": [
        "<div style=\"text-align: center\">\n",
        "  <figure style=\"display: inline-block; width: 49%;\">\n",
        "    <img src=\"https://machinelearningmastery.com/wp-content/uploads/2019/02/Example-of-Training-Learning-Curve-Showing-An-Underfit-Model-That-Does-Not-Have-Sufficient-Capacity.png\" width=\"500\"/>\n",
        "  </figure>\n",
        "</div>\n",
        "\n",
        "*visualisations taken from the [this guide](https://machinelearningmastery.com/learning-curves-for-diagnosing-machine-learning-model-performance/)*"
      ],
      "metadata": {
        "id": "ayD0sJMrrnve"
      }
    },
    {
      "cell_type": "markdown",
      "source": [
        "The training loss is flat, which means that the model was unable to learn the training dataset at all! This is called **Underfitting**.\n",
        "\n",
        "Now imagine you see something like that:"
      ],
      "metadata": {
        "id": "FL40szrks3ON"
      }
    },
    {
      "cell_type": "markdown",
      "source": [
        "<div style=\"text-align: center\">\n",
        "  <figure style=\"display: inline-block; width: 49%;\">\n",
        "    <img src=\"https://machinelearningmastery.com/wp-content/uploads/2018/12/Example-of-Training-Learning-Curve-Showing-An-Underfit-Model-That-Requires-Further-Training.png\" width=\"500\"/>\n",
        "  </figure>\n",
        "</div>\n",
        "\n",
        "*visualisations taken from the [this guide](https://machinelearningmastery.com/learning-curves-for-diagnosing-machine-learning-model-performance/)*"
      ],
      "metadata": {
        "id": "8Nxq1-HEtbbG"
      }
    },
    {
      "cell_type": "markdown",
      "source": [
        "This is also **Underfitting**! We see our training loss that is decreasing and continues to decrease at the end of the plot. This indicates that the model is capable of further learning and possible further improvements and that the training process was halted prematurely.\n",
        "\n",
        "And how about this?"
      ],
      "metadata": {
        "id": "vRItvD1Fth64"
      }
    },
    {
      "cell_type": "markdown",
      "source": [
        "<div style=\"text-align: center\">\n",
        "  <figure style=\"display: inline-block; width: 49%;\">\n",
        "    <img src=\"https://machinelearningmastery.com/wp-content/uploads/2018/12/Example-of-Train-and-Validation-Learning-Curves-Showing-An-Overfit-Model.png\" width=\"500\"/>\n",
        "  </figure>\n",
        "</div>\n",
        "\n",
        "*visualisations taken from the [this guide](https://machinelearningmastery.com/learning-curves-for-diagnosing-machine-learning-model-performance/)*"
      ],
      "metadata": {
        "id": "CWv93aHxw8jT"
      }
    },
    {
      "cell_type": "markdown",
      "source": [
        "Do you see how training loss continues to *decrease* with experience and\n",
        "validation loss *decreases* to a point and begins *increasing* again?\n",
        "Overfitting refers to a model that has learned the training dataset too well, including the statistical noise or random fluctuations in the training dataset.\n",
        "\n",
        "The problem with overfitting is that the more specialized the model becomes in training data, the less well it is able to generalize to new data, resulting in an increase in generalization error. This increase in generalization error can be measured by the performance of the model on the validation dataset.\n",
        "\n",
        "This often occurs if\n",
        "- the model has more capacity than is required for the problem, and, in turn, too much flexibility.\n",
        "- the model is trained for too long.\n",
        "\n",
        "Now let us show you another training behaviour."
      ],
      "metadata": {
        "id": "ndufVJq_xCWZ"
      }
    },
    {
      "cell_type": "markdown",
      "source": [
        "<div style=\"text-align: center\">\n",
        "  <figure style=\"display: inline-block; width: 49%;\">\n",
        "    <img src=\"https://machinelearningmastery.com/wp-content/uploads/2018/12/Example-of-Train-and-Validation-Learning-Curves-Showing-A-Good-Fit.png\" width=\"500\"/>\n",
        "  </figure>\n",
        "</div>\n",
        "\n",
        "*visualisations taken from the [this guide](https://machinelearningmastery.com/learning-curves-for-diagnosing-machine-learning-model-performance/)*"
      ],
      "metadata": {
        "id": "TPIQQyWpx_vk"
      }
    },
    {
      "cell_type": "markdown",
      "source": [
        "This is a **good fit learning curve**! This is the ideal behaviour where the neural network's loss on both the training and validation datasets decreases over time and stabilizes. Convergence indicates that the network is effectively learning the underlying patterns in the data.\n",
        "\n",
        "In the example above the train and validation losses are almost at the same level, but usually they have some distance between each other a.k.a. generalization gap. This distance shouldn't be too big (if it is, your train dataset is too small). The validation loss should be higher than the train loss (otherwise it means that your validation data is easier than your train data)."
      ],
      "metadata": {
        "id": "CpNXye65yHok"
      }
    },
    {
      "cell_type": "markdown",
      "source": [
        "### Optimizers"
      ],
      "metadata": {
        "id": "Bm_5ddibCKew"
      }
    },
    {
      "cell_type": "markdown",
      "source": [
        "Optimizers are used to minimize the objective function, which is typically the loss or error function measuring the difference between the predicted output of the model and the actual data.\n",
        "\n",
        "The choice of optimizer can have a significant impact on the speed and quality of the training process of a neural network. There are numerous different optimizers available (`torch.optim.SGD`, `torch.optim.Adam`, `torch.optim.RMSprop`). We encourage you to take a look at the interactive visualization of these optimizers [here](https://emiliendupont.github.io/2018/01/24/optimization-visualization/). (Global minimum is on the left, local minimum is on the right)."
      ],
      "metadata": {
        "id": "Y5OibCQnCOTX"
      }
    },
    {
      "cell_type": "markdown",
      "source": [
        "What is important for us now is the adjustable hyperparameters of optimizers as we will need this for training our own neural network in the later exercise. The learning rate is one of those.\n",
        "\n",
        "The learning rate determines the size of the steps that the optimizer takes during the gradient descent process on the loss surface. Essentially, it influences the speed and quality of the learning process.\n",
        "\n",
        "The visualization below will help you to get an intuition on different learning rates.\n",
        "\n",
        "1. Too High: If the learning rate is too high, the optimizer might overshoot the minimum of the loss function, leading to divergent behaviour where the model fails to converge or even exhibits worse performance over time.\n",
        "\n",
        "2. Just Right: An optimal learning rate moves the model weights in such a way that the training process is efficient and converges to a good solution within a reasonable amount of time. Finding this optimal learning rate is crucial for effective model training.\n",
        "\n",
        "3. Too Low: Conversely, if the learning rate is too low, the training process can become extremely slow because the steps towards the minimum are tiny. This can lead to a long training process that might get stuck in local minima.\n",
        "\n"
      ],
      "metadata": {
        "id": "l6WhCo0zJ7Zg"
      }
    },
    {
      "cell_type": "markdown",
      "source": [
        "<div style=\"text-align: center\">\n",
        "  <figure style=\"display: inline-block; width: 100%;\">\n",
        "    <img style=\"padding: 10px 10px\" src=\"https://camo.githubusercontent.com/f0948a3508dfc3ea58331e9e1282798e3ae2c800e0d72b2f248afc48b26a119b/68747470733a2f2f676174746f6e7765622e756b792e6564752f666163756c74792f6c69756d2f6d6c2f6c61726765746f736d616c6c2e676966\" />\n",
        "  </figure>\n",
        "\n",
        "\n",
        "*visualisations taken from the [github repo](https://github.com/markhliu/ml_animated?tab=readme-ov-file)"
      ],
      "metadata": {
        "id": "gcP_NFLZM4Rn"
      }
    },
    {
      "cell_type": "markdown",
      "source": [
        "### Training and Testing loops"
      ],
      "metadata": {
        "id": "H--BPjAuCOfm"
      }
    },
    {
      "cell_type": "markdown",
      "source": [
        "A training loop in machine learning (ML) refers to the process through which a machine learning model learns from data over a series of iterations, or \"epochs.\" During each epoch, the model makes predictions based on its current state (initially random or pre-initialized weights), compares these predictions against the true outcomes using a loss function, and then adjusts its internal parameters (weights) in an effort to minimize this loss. The goal is for the model to learn the underlying patterns in the training data so that it can make accurate predictions on unseen data."
      ],
      "metadata": {
        "id": "KO-5x5rSCdkz"
      }
    },
    {
      "cell_type": "markdown",
      "source": [
        "We ecourage you to take a look at this example from [PyTorch documentation](https://pytorch.org/tutorials/beginner/basics/quickstart_tutorial.html)."
      ],
      "metadata": {
        "id": "8Gu76xcDYKlB"
      }
    },
    {
      "cell_type": "code",
      "source": [
        "def train(dataloader, model, loss_fn, optimizer):\n",
        "    size = len(dataloader.dataset)\n",
        "    model.train()\n",
        "    for batch, (X, y) in enumerate(dataloader):\n",
        "        X, y = X.to(device), y.to(device)\n",
        "\n",
        "        # Compute prediction error\n",
        "        pred = model(X)\n",
        "        loss = loss_fn(pred, y)\n",
        "\n",
        "        # Backpropagation\n",
        "        loss.backward()\n",
        "        optimizer.step()\n",
        "        optimizer.zero_grad()\n",
        "\n",
        "        if batch % 100 == 0:\n",
        "            loss, current = loss.item(), (batch + 1) * len(X)\n",
        "            print(f\"loss: {loss:>7f}  [{current:>5d}/{size:>5d}]\")"
      ],
      "metadata": {
        "id": "oKeh3n2jayDE"
      },
      "execution_count": null,
      "outputs": []
    },
    {
      "cell_type": "markdown",
      "source": [
        "We also check the model's performance against the test dataset to ensure it is learning. We do it by defining a test loop. You can take a look at the example from [PyTorch documentation](https://pytorch.org/tutorials/beginner/basics/quickstart_tutorial.html) here."
      ],
      "metadata": {
        "id": "W86UWXyKZyP0"
      }
    },
    {
      "cell_type": "code",
      "source": [
        "def test(dataloader, model, loss_fn):\n",
        "    size = len(dataloader.dataset)\n",
        "    num_batches = len(dataloader)\n",
        "    model.eval()\n",
        "    test_loss, correct = 0, 0\n",
        "    with torch.no_grad():\n",
        "        for X, y in dataloader:\n",
        "            X, y = X.to(device), y.to(device)\n",
        "            pred = model(X)\n",
        "            test_loss += loss_fn(pred, y).item()\n",
        "            correct += (pred.argmax(1) == y).type(torch.float).sum().item()\n",
        "    test_loss /= num_batches\n",
        "    correct /= size\n",
        "    print(f\"Test Error: \\n Accuracy: {(100*correct):>0.1f}%, Avg loss: {test_loss:>8f} \\n\")"
      ],
      "metadata": {
        "id": "o8jMppodOKcH"
      },
      "execution_count": null,
      "outputs": []
    },
    {
      "cell_type": "markdown",
      "source": [
        "### Datasets and Dataloaders"
      ],
      "metadata": {
        "id": "sdVP5Rgob0g5"
      }
    },
    {
      "cell_type": "markdown",
      "source": [
        "PyTorch provides two data primitives: torch.utils.data.DataLoader and torch.utils.data.Dataset that allow you to use pre-loaded datasets as well as your own data. Dataset stores the samples and their corresponding labels, and DataLoader wraps an iterable around the Dataset to enable easy access to the samples."
      ],
      "metadata": {
        "id": "w85vnvVsb7DT"
      }
    },
    {
      "cell_type": "markdown",
      "source": [
        "Here is an example of how to load the Fashion-MNIST dataset from TorchVision. Fashion-MNIST is a dataset of Zalando's article images consisting of 60,000 training examples and 10,000 test examples. Each example comprises a 28x28 grayscale image and an associated label from one of 10 classes."
      ],
      "metadata": {
        "id": "ZE2JRf-imHsK"
      }
    },
    {
      "cell_type": "code",
      "source": [
        "import torch\n",
        "from torch.utils.data import Dataset\n",
        "from torchvision import datasets\n",
        "from torchvision.transforms import ToTensor\n",
        "import matplotlib.pyplot as plt\n",
        "\n",
        "\n",
        "training_data = datasets.FashionMNIST(\n",
        "    root=\"data\", # root is the path where the train/test data is stored\n",
        "    train=True, # train specifies training or test dataset\n",
        "    download=True, # download=True downloads the data from the internet if it’s not available at root\n",
        "    transform=ToTensor() # transform and target_transform specify the feature and label transformations\n",
        ")\n",
        "\n",
        "test_data = datasets.FashionMNIST(\n",
        "    root=\"data\",\n",
        "    train=False,\n",
        "    download=True,\n",
        "    transform=ToTensor()\n",
        ")"
      ],
      "metadata": {
        "colab": {
          "base_uri": "https://localhost:8080/"
        },
        "id": "VnFr7aFWb7Va",
        "outputId": "05f9beb9-1d4e-4606-befd-d28e2ffefa8f"
      },
      "execution_count": null,
      "outputs": [
        {
          "output_type": "stream",
          "name": "stdout",
          "text": [
            "Downloading http://fashion-mnist.s3-website.eu-central-1.amazonaws.com/train-images-idx3-ubyte.gz\n",
            "Downloading http://fashion-mnist.s3-website.eu-central-1.amazonaws.com/train-images-idx3-ubyte.gz to data/FashionMNIST/raw/train-images-idx3-ubyte.gz\n"
          ]
        },
        {
          "output_type": "stream",
          "name": "stderr",
          "text": [
            "100%|██████████| 26421880/26421880 [00:02<00:00, 11663849.71it/s]\n"
          ]
        },
        {
          "output_type": "stream",
          "name": "stdout",
          "text": [
            "Extracting data/FashionMNIST/raw/train-images-idx3-ubyte.gz to data/FashionMNIST/raw\n",
            "\n",
            "Downloading http://fashion-mnist.s3-website.eu-central-1.amazonaws.com/train-labels-idx1-ubyte.gz\n",
            "Downloading http://fashion-mnist.s3-website.eu-central-1.amazonaws.com/train-labels-idx1-ubyte.gz to data/FashionMNIST/raw/train-labels-idx1-ubyte.gz\n"
          ]
        },
        {
          "output_type": "stream",
          "name": "stderr",
          "text": [
            "100%|██████████| 29515/29515 [00:00<00:00, 218243.83it/s]\n"
          ]
        },
        {
          "output_type": "stream",
          "name": "stdout",
          "text": [
            "Extracting data/FashionMNIST/raw/train-labels-idx1-ubyte.gz to data/FashionMNIST/raw\n",
            "\n",
            "Downloading http://fashion-mnist.s3-website.eu-central-1.amazonaws.com/t10k-images-idx3-ubyte.gz\n",
            "Downloading http://fashion-mnist.s3-website.eu-central-1.amazonaws.com/t10k-images-idx3-ubyte.gz to data/FashionMNIST/raw/t10k-images-idx3-ubyte.gz\n"
          ]
        },
        {
          "output_type": "stream",
          "name": "stderr",
          "text": [
            "100%|██████████| 4422102/4422102 [00:01<00:00, 3928810.66it/s]\n"
          ]
        },
        {
          "output_type": "stream",
          "name": "stdout",
          "text": [
            "Extracting data/FashionMNIST/raw/t10k-images-idx3-ubyte.gz to data/FashionMNIST/raw\n",
            "\n",
            "Downloading http://fashion-mnist.s3-website.eu-central-1.amazonaws.com/t10k-labels-idx1-ubyte.gz\n",
            "Downloading http://fashion-mnist.s3-website.eu-central-1.amazonaws.com/t10k-labels-idx1-ubyte.gz to data/FashionMNIST/raw/t10k-labels-idx1-ubyte.gz\n"
          ]
        },
        {
          "output_type": "stream",
          "name": "stderr",
          "text": [
            "100%|██████████| 5148/5148 [00:00<00:00, 16596677.17it/s]\n"
          ]
        },
        {
          "output_type": "stream",
          "name": "stdout",
          "text": [
            "Extracting data/FashionMNIST/raw/t10k-labels-idx1-ubyte.gz to data/FashionMNIST/raw\n",
            "\n"
          ]
        }
      ]
    },
    {
      "cell_type": "markdown",
      "source": [
        "However, some PyTorch datasets have different parameters. It is always a good idea to check documentation before using PyTorch pre-loaded dataset."
      ],
      "metadata": {
        "id": "CPc0i8ubmrxx"
      }
    },
    {
      "cell_type": "markdown",
      "source": [
        "The Dataset retrieves our dataset’s features and labels one sample at a time. While training a model, we typically want to pass samples in “minibatches”, reshuffle the data at every epoch to reduce model overfitting, and use Python’s multiprocessing to speed up data retrieval.\n",
        "\n",
        "DataLoader is an iterable that abstracts this complexity for us in an easy API."
      ],
      "metadata": {
        "id": "dHzIXnV8nnoG"
      }
    },
    {
      "cell_type": "code",
      "source": [
        "from torch.utils.data import DataLoader\n",
        "\n",
        "train_dataloader = DataLoader(training_data, batch_size=64, shuffle=True)\n",
        "test_dataloader = DataLoader(test_data, batch_size=64, shuffle=True)"
      ],
      "metadata": {
        "id": "1yY6ZNCFnm_8"
      },
      "execution_count": null,
      "outputs": []
    },
    {
      "cell_type": "markdown",
      "source": [
        "We have loaded that dataset into the DataLoader and can iterate through the dataset as needed. Each iteration below returns a batch of train_features and train_labels (containing batch_size=64 features and labels respectively). Because we specified shuffle=True, after we iterate over all batches the data is shuffled."
      ],
      "metadata": {
        "id": "IfgWF93Nn0w9"
      }
    },
    {
      "cell_type": "code",
      "source": [
        "# Display image and label.\n",
        "train_features, train_labels = next(iter(train_dataloader))\n",
        "print(f\"Feature batch shape: {train_features.size()}\")\n",
        "print(f\"Labels batch shape: {train_labels.size()}\")\n",
        "img = train_features[0].squeeze()\n",
        "label = train_labels[0]\n",
        "plt.imshow(img, cmap=\"gray\")\n",
        "plt.show()\n",
        "print(f\"Label: {label}\")"
      ],
      "metadata": {
        "colab": {
          "base_uri": "https://localhost:8080/",
          "height": 485
        },
        "id": "bbZ7TK5Bnt5E",
        "outputId": "47f3d09a-5fd4-48a6-dc21-7e3ee2ee8cbe"
      },
      "execution_count": null,
      "outputs": [
        {
          "output_type": "stream",
          "name": "stdout",
          "text": [
            "Feature batch shape: torch.Size([64, 1, 28, 28])\n",
            "Labels batch shape: torch.Size([64])\n"
          ]
        },
        {
          "output_type": "display_data",
          "data": {
            "text/plain": [
              "<Figure size 640x480 with 1 Axes>"
            ],
            "image/png": "[encoded data removed]"
          },
          "metadata": {}
        },
        {
          "output_type": "stream",
          "name": "stdout",
          "text": [
            "Label: 6\n"
          ]
        }
      ]
    },
    {
      "cell_type": "markdown",
      "source": [
        "# CNNs"
      ],
      "metadata": {
        "id": "h6ZCiU-xlGrs"
      }
    },
    {
      "cell_type": "markdown",
      "source": [
        "You are already familiar with convolutions from the lecture. Here are some gifs to refresh your knowledge."
      ],
      "metadata": {
        "id": "brrfOwXXEzAX"
      }
    },
    {
      "cell_type": "markdown",
      "source": [
        "<div style=\"text-align: center\">\n",
        "  <figure style=\"display: inline-block; width: 33%;\">\n",
        "    <img src=\"https://github.com/vdumoulin/conv_arithmetic/raw/master/gif/no_padding_no_strides.gif\" width=\"250\"/>\n",
        "    <figcaption style=\"width: 100%;\"> Convolution with no padding, no strides </figcaption>\n",
        "  </figure>\n",
        "  <figure style=\"display: inline-block; width: 33%;\">\n",
        "    <img src=\"https://github.com/vdumoulin/conv_arithmetic/raw/master/gif/same_padding_no_strides.gif\" width=\"250\"/>\n",
        "    <figcaption style=\"width: 100%; text-align: center;\"> Convolution with padding = 1, no strides </figcaption>\n",
        "  </figure>\n",
        "  <figure style=\"display: inline-block; width: 34%;\">\n",
        "    <img src=\"https://github.com/vdumoulin/conv_arithmetic/raw/master/gif/no_padding_strides.gif\" width=\"250\"/>\n",
        "    <figcaption style=\"width: 100%; text-align: center;\"> Convolution with np padding, strides = 2 </figcaption>\n",
        "  </figure>\n",
        "</div>\n",
        "\n",
        "*visualisations taken from the [github repo](https://github.com/vdumoulin/conv_arithmetic) that comes with [this guide](https://arxiv.org/abs/1603.07285)*"
      ],
      "metadata": {
        "id": "CJ3Slit81jbr"
      }
    },
    {
      "cell_type": "markdown",
      "source": [
        "It is really important for us to get an understanding of how different convolution parameters affect the computational complexity and memory requirements, crucial for hardware efficiency and optimization. For these reasons, we would like you to solve some hands-on exercises to get some practical knowledge."
      ],
      "metadata": {
        "id": "OkQReOwgFEos"
      }
    },
    {
      "cell_type": "markdown",
      "source": [
        "### Exercise on convolution with different parameters\n",
        "\n"
      ],
      "metadata": {
        "id": "f9nRGJZ3Xiyg"
      }
    },
    {
      "cell_type": "markdown",
      "source": [
        "$$ x = \\begin{pmatrix}\n",
        "0 & 1 & 2 & 1 & 3\\\\\n",
        "1&0&-1&3&-4\\\\\n",
        "0&0&3&0&0\\\\\n",
        "2&1&0&2&1\\\\\n",
        "-2&0&-1&-3&0\\\\\n",
        "\\end{pmatrix}$$\n",
        "\n",
        "$$$$\n",
        "$$w = \\begin{pmatrix}\n",
        "1 & 0 & 1 \\\\\n",
        "0&1&0\\\\\n",
        "1&0&1\\\\\n",
        "\\end{pmatrix}$$"
      ],
      "metadata": {
        "id": "NCmXG1XfYhWs"
      }
    },
    {
      "cell_type": "markdown",
      "source": [
        "You are given a feature map `x` and a kernel `w`. Complete the following tasks:"
      ],
      "metadata": {
        "id": "qhTO00dwYStx"
      }
    },
    {
      "cell_type": "markdown",
      "source": [
        "**Task 1: Compute dimensionality of the output feature map after convolving `x` with `w`.**\n",
        "1. Stride 1, padding 0;\n",
        "2. Stride 2, padding 0;\n",
        "3. Stride 3, padding 2;\n",
        "\n",
        "*(Your are welcome to write some code to help with calculations)*\n",
        "\n"
      ],
      "metadata": {
        "id": "eyr5f5j-Xs91"
      }
    },
    {
      "cell_type": "markdown",
      "source": [
        "To calculate the size of the output feature map in a convolutional neural network (CNN), you can use the following formula:\n",
        "\n",
        "Given:\n",
        "\n",
        "- $W_{in}$: width of the input feature map\n",
        "- $H_{in}$: height of the input feature map\n",
        "- $K$: size of the kernel (assuming the kernel is square for simplicity)\n",
        "- $P$: padding on each side of the input feature map\n",
        "- $S$: stride of the convolution\n",
        "\n",
        "The width $W_{out}$ and height $H_{out}$ of the output feature map can be calculated as follows:\n",
        "\n",
        "$$\n",
        "W_{out} = \\left\\lfloor \\frac{W_{in} - K + 2P}{S} + 1 \\right\\rfloor\n",
        "$$\n",
        "\n",
        "$$\n",
        "H_{out} = \\left\\lfloor \\frac{H_{in} - K + 2P}{S} + 1 \\right\\rfloor\n",
        "$$"
      ],
      "metadata": {
        "id": "2zslBuY5lI6S"
      }
    },
    {
      "cell_type": "code",
      "source": [
        "# YOUR ANSWER HERE\n"
      ],
      "metadata": {
        "id": "hbuXDTNYYQQU"
      },
      "execution_count": null,
      "outputs": []
    },
    {
      "cell_type": "markdown",
      "source": [
        "**Task 2: Compute convolurions (you can write code to solve this exercise)**\n",
        "1. $s = x⋆w$, where $⋆$ is convolution operation. Calculate $s_{1,1}$ if stride = 2 and padding = 1."
      ],
      "metadata": {
        "id": "thjbXzxqZmIL"
      }
    },
    {
      "cell_type": "code",
      "source": [
        "# YOUR ANSWER HERE\n"
      ],
      "metadata": {
        "id": "URH9S7ssaaKc"
      },
      "execution_count": null,
      "outputs": []
    },
    {
      "cell_type": "markdown",
      "source": [
        "### CNN dimensionality exercise"
      ],
      "metadata": {
        "id": "oua-aYgDGdK-"
      }
    },
    {
      "cell_type": "markdown",
      "source": [
        "\n",
        "\n",
        "<div style=\"text-align: center\">\n",
        "  <figure style=\"display: inline-block; width: 49%;\">\n",
        "    <img style=\"padding: 50px 50px\" src=\"https://drive.google.com/uc?export=view&id=1Mccxf_54zvxXBrfSXEq1CJIQDmGCUMGh\" />\n",
        "  </figure>\n",
        "\n"
      ],
      "metadata": {
        "id": "rgEExpmkGhi9"
      }
    },
    {
      "cell_type": "markdown",
      "source": [
        "You are given a CNN architecture as in the image above. Your task is to calculate the dimensions of an image that is propagated through this network and the number of weights in this network. The initial data dimension is [64, 64, 3], which corresponds to the width, height and number of channels of the image. No padding was used. There are bias units throughout the network. Fill in the gaps."
      ],
      "metadata": {
        "id": "_NE22utBTsH3"
      }
    },
    {
      "cell_type": "markdown",
      "source": [
        "Layer description  | Data dimention [width, height, channel] | Number of parameters\n",
        "-------------------|------------------ | -------------------\n",
        "Input layer       | [64, 64, 3] | 0\n",
        "C1: 4x4 convolutions with 8 kernels, stride 4     | _ | _\n",
        "C2: 4x4 convolutions with 16 kernels, stride 2     | _ | _\n",
        "C3: 3x3 convolutions with 32 kernels, stride 1     | _ | _\n",
        "C4: 3x3 convolutions with 16 kernels, stride 1     | _ | _\n",
        "F5: Fully connected layer with 512 units        | _ | _\n",
        "F6: Fully connected layer with 512 units        | _ | _\n",
        "O7: Output layer, fully connected layer with 100 units        | _ | _"
      ],
      "metadata": {
        "id": "-czkO3zMU1gf"
      }
    },
    {
      "cell_type": "markdown",
      "source": [
        "### Max Pool vs Dilated Convolution exercise"
      ],
      "metadata": {
        "id": "A1e2cdupajmi"
      }
    },
    {
      "cell_type": "markdown",
      "source": [
        "<div style=\"text-align: center\">\n",
        "  <figure style=\"display: inline-block; width: 49%;\">\n",
        "    <img src=\"https://raw.githubusercontent.com/vdumoulin/conv_arithmetic/master/gif/no_padding_strides.gif\" width=\"250\"/>\n",
        "    <figcaption style=\"width: 100%;\"> Strided convolution </figcaption>\n",
        "  </figure>\n",
        "  <figure style=\"display: inline-block; width: 49%;\">\n",
        "    <img src=\"https://raw.githubusercontent.com/vdumoulin/conv_arithmetic/master/gif/dilation.gif\" width=\"250\"/>\n",
        "    <figcaption style=\"width: 100%; text-align: center;\"> Dilated convolution </figcaption>\n",
        "  </figure>\n",
        "</div>\n",
        "\n",
        "*visualisations taken from the [github repo](https://github.com/vdumoulin/conv_arithmetic) that comes with [this guide](https://arxiv.org/abs/1603.07285)*"
      ],
      "metadata": {
        "id": "lXEiXb_9asg9"
      }
    },
    {
      "cell_type": "markdown",
      "source": [
        "Dilated convolutions “inflate” the kernel by inserting spaces between the kernel elements. The dilation “rate” is controlled by an additional hyperparameter\n",
        "d. Implementations may vary, but there are usually d - 1 spaces inserted between\n",
        "kernel elements such that d = 1 corresponds to a regular convolution.\n",
        "Dilated convolutions are used to cheaply increase the receptive field of output\n",
        "units without increasing the kernel size, which is especially effective when multiple dilated convolutions are stacked one after another.\n",
        "You can calculate the sizes of the output feature maps using this formula:\n",
        "Given:\n",
        "\n",
        "- $W_{in}$: width of the input feature map\n",
        "- $H_{in}$: height of the input feature map\n",
        "- $K$: size of the kernel (assuming the kernel is square for simplicity)\n",
        "- $d$: dilation rate\n",
        "- $P$: padding on each side of the input feature map\n",
        "- $S$: stride of the convolution\n",
        "\n",
        "The width $W_{out}$ and height $H_{out}$ of the output feature map can be calculated as follows:\n",
        "\n",
        "$$\n",
        "W_{out} = \\left\\lfloor \\frac{W_{in} - K + 2P - (K-1)(d-1)}{S} + 1 \\right\\rfloor\n",
        "$$\n",
        "\n",
        "$$\n",
        "H_{out} = \\left\\lfloor \\frac{H_{in} - K + 2P - (K-1)(d-1)}{S} + 1 \\right\\rfloor\n",
        "$$"
      ],
      "metadata": {
        "id": "qUGkm27LbCS2"
      }
    },
    {
      "cell_type": "markdown",
      "source": [
        "In modern convolutional neural networks, strided or dilated convolutions (see visualisations above) are often preferred over pooling. With strided convolutions, the windows are shifted. The main advantage of strided or dilated convolutions over pooling is that they can be learnt. This means that instead of relying on a fixed pooling technique, it is possible to effectively learn how the pixels in the window are to be summarised. In this exercise, we will take a closer look at strided and dilated convolutions."
      ],
      "metadata": {
        "id": "0tMufl71dR_h"
      }
    },
    {
      "cell_type": "markdown",
      "source": [
        "**Task1: Convolution**\n",
        "> Define a function called `my_conv2d()`. This function should take the following input parameters: input, kernel, stride, padding. It should output the result of the convolution of input and kernel. Implement and test this function on given data."
      ],
      "metadata": {
        "id": "Yqg4WH42eGkX"
      }
    },
    {
      "cell_type": "code",
      "source": [
        "def my_conv2d(input, kernel, stride, padding):\n",
        "  \"\"\"\n",
        "  Parameters\n",
        "  ----------\n",
        "  input : (H, W) ndarray\n",
        "  kernel : (K, K) ndarray\n",
        "  stride : int\n",
        "  padding : int\n",
        "\n",
        "  Returns\n",
        "  -------\n",
        "  result : (H1, W1) ndarray\n",
        "  \"\"\"\n",
        "\n",
        "  # YOUR CODE HERE\n",
        "\n",
        "  return result\n",
        "\n",
        "\n",
        "feature_map = np.arange(25).reshape(5, 5)\n",
        "kernel = np.arange(9).reshape(3, 3)\n",
        "stride = 1\n",
        "padding = 0"
      ],
      "metadata": {
        "id": "ElQFqueqilei"
      },
      "execution_count": null,
      "outputs": []
    },
    {
      "cell_type": "markdown",
      "source": [
        "**Task2: Max Pool**\n",
        "> Define a function called `my_maxpool()`. This function should take the following input parameters: input, pooling_window. It should output the result of the max pool operation on the input matrix. Implement and test this function on given data."
      ],
      "metadata": {
        "id": "Sifqpl-Rjqcz"
      }
    },
    {
      "cell_type": "code",
      "source": [
        "def my_maxpool(input, pooling_window):\n",
        "  \"\"\"\n",
        "  Parameters\n",
        "  ----------\n",
        "  input : (H, W) ndarray\n",
        "  pooling_window: int, size of the pooling window\n",
        "\n",
        "  Returns\n",
        "  -------\n",
        "  result : (H1, W1) ndarray\n",
        "  \"\"\"\n",
        "\n",
        "  # YOUR CODE HERE\n",
        "\n",
        "  return result"
      ],
      "metadata": {
        "id": "XgBNWXzijtYJ"
      },
      "execution_count": null,
      "outputs": []
    },
    {
      "cell_type": "markdown",
      "source": [
        "**Task3: Dilated Convolution**\n",
        "> Define a function called `my_dilatedconv2d()`. This function should take the following input parameters: input, kernel, stride, padding, dilation. It should output the result of the dilated convolution operation of the input and kernel.  Implement and test this function on given data.\n",
        "\n",
        "P.S. You can also reuse your implementation of Task1."
      ],
      "metadata": {
        "id": "wY630itVkkJJ"
      }
    },
    {
      "cell_type": "code",
      "source": [
        "def my_dilatedconv2d(input, kernel, stride, padding, dilation):\n",
        "  \"\"\"\n",
        "  Parameters\n",
        "  ----------\n",
        "  input : (H, W) ndarray\n",
        "  kernel : (K, K) ndarray\n",
        "  stride : int\n",
        "  padding : int\n",
        "  dilation : int\n",
        "\n",
        "  Returns\n",
        "  -------\n",
        "  result : (H1, W1) ndarray\n",
        "  \"\"\"\n",
        "\n",
        "  # YOUR CODE HERE\n",
        "\n",
        "  return result"
      ],
      "metadata": {
        "id": "a5wkMHMy1hjh"
      },
      "execution_count": null,
      "outputs": []
    },
    {
      "cell_type": "markdown",
      "source": [
        "**Task4: Experiments**\n",
        "> Apply `my_conv2d()` and `my_maxpool()` sequentially. Note down:\n",
        "1. The size of the output\n",
        "2. Output values\n",
        "3. Number of trainable parameters\n"
      ],
      "metadata": {
        "id": "YFQlxZDX109z"
      }
    },
    {
      "cell_type": "code",
      "source": [
        "# YOUR CODE HERE\n"
      ],
      "metadata": {
        "id": "XsNpK7hDiE6I"
      },
      "execution_count": null,
      "outputs": []
    },
    {
      "cell_type": "markdown",
      "source": [
        ">Apply `my_dilatedconv2d()` with `dilation` > 1. Play with different values of `dilation`. Note down:\n",
        "1. The size of the output\n",
        "2. Output values\n",
        "3. Number of trainable parameters"
      ],
      "metadata": {
        "id": "K-P5y6-giFi-"
      }
    },
    {
      "cell_type": "code",
      "source": [
        "# YOUR CODE HERE\n"
      ],
      "metadata": {
        "id": "SODtINxGiF4a"
      },
      "execution_count": null,
      "outputs": []
    },
    {
      "cell_type": "markdown",
      "source": [
        "> What did you observe? Does it make sense to use dilated convolution instead of regular convolution and max pool? What are the advantages and disadvantages trainability-wise? memory-wise?"
      ],
      "metadata": {
        "id": "C--0j8QeiUWQ"
      }
    },
    {
      "cell_type": "markdown",
      "source": [
        "YOUR ANSWER HERE:\n",
        "\n",
        "-"
      ],
      "metadata": {
        "id": "8XPf0_a6jkOi"
      }
    },
    {
      "cell_type": "markdown",
      "source": [
        "# Creating your model"
      ],
      "metadata": {
        "id": "GQ8eNHPjmkLY"
      }
    },
    {
      "cell_type": "markdown",
      "source": [
        "### Objective"
      ],
      "metadata": {
        "id": "qSgkTNjkEpzB"
      }
    },
    {
      "cell_type": "markdown",
      "source": [
        "Understand the impact of model architecture choices on the dimensionality, memory usage, and computational complexity of CNNs."
      ],
      "metadata": {
        "id": "hTPvJv2DEto6"
      }
    },
    {
      "cell_type": "markdown",
      "source": [
        "### Exercise Overview\n",
        "You will design, implement, train and analyze a CNN for an image classification task (classifying traffic signs from the GTSRB dataset). You will explore how variations in the architecture affect the model's memory footprint and computational requirements. For this exercise use the project.ipynb file provided."
      ],
      "metadata": {
        "id": "8fXfrYNPreSL"
      }
    },
    {
      "cell_type": "code",
      "source": [],
      "metadata": {
        "id": "NxLp7tmirgqR"
      },
      "execution_count": null,
      "outputs": []
    }
  ]
}